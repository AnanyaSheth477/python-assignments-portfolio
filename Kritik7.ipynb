{
 "cells": [
  {
   "cell_type": "code",
   "execution_count": 5,
   "id": "27129fd0-eb49-4926-961e-e9a129f921da",
   "metadata": {},
   "outputs": [
    {
     "name": "stdout",
     "output_type": "stream",
     "text": [
      "The Average is 82.38\n",
      "The Standard Deviation is 10.19\n",
      "The t zero value is 2.29\n"
     ]
    }
   ],
   "source": [
    "import numpy as np\n",
    "grades = [92.64, 79.00, 84.79, 97.41, 93.68, 65.23, 84.50, 73.49, 73.97, 79.11]\n",
    "n = len(grades)\n",
    "\n",
    "#1\n",
    "Average = sum(grades) / n\n",
    "print(f\"The Average is {Average:.2f}\")\n",
    "\n",
    "#2\n",
    "squared_diff = [(x-Average)**2 for x in grades]\n",
    "under_root = (1 / (n-1))*sum(squared_diff)  # Fixed division\n",
    "Stdv = under_root**0.5\n",
    "print(f\"The Standard Deviation is {Stdv:.2f}\")\n",
    "\n",
    "#3\n",
    "t_0 = (Average-75)/(Stdv/(n ** 0.5))  \n",
    "print(f\"The t zero value is {t_0:.2f}\")\n"
   ]
  },
  {
   "cell_type": "code",
   "execution_count": 7,
   "id": "c2adb044-2e7b-4f3c-b029-59acc8040a99",
   "metadata": {},
   "outputs": [
    {
     "name": "stdout",
     "output_type": "stream",
     "text": [
      "The t* value is 2.2522252225222523\n",
      "Reject the null hypothesis so the new teaching technique has a significant effect on scores.\n"
     ]
    }
   ],
   "source": [
    "#4\n",
    "def t_distribution_pdf(x, nu):\n",
    "    coeff = gamma((nu + 1) / 2) / (np.sqrt(nu * np.pi) * gamma(nu / 2))\n",
    "    density = coeff * (1 + x**2 / nu) ** (-0.5 * (nu + 1))\n",
    "    return density\n",
    "\n",
    "# Function to find t* value\n",
    "def find_t_star(prob, nu, x_start=0, x_end=20, num_points=10000):\n",
    "    x = np.linspace(x_start, x_end, num_points)\n",
    "    y = t_distribution_pdf(x, nu)\n",
    "    cdf = np.cumsum(y) * (x[1] - x[0])  # Numerical integration\n",
    "    target_half_prob = prob / 2\n",
    "    index = np.where(cdf >= target_half_prob)[0][0]\n",
    "    return x[index]\n",
    "\n",
    "# Compute t* for 95% confidence\n",
    "t_star = find_t_star(0.95, n - 1)\n",
    "print(f\"The t* value is {t_star}\")\n",
    "\n",
    "# Final Decision\n",
    "if -t_star <= t_0 <= t_star:\n",
    "    print(\"Accept the null hypothesis so the new teaching technique does not significantly change scores.\")\n",
    "else:\n",
    "    print(\"Reject the null hypothesis so the new teaching technique has a significant effect on scores.\")\n",
    "\n",
    "\n",
    "#5\n",
    "#Based on our t-test, since t0 is outside the range of negative tstar to positive tstar, the null hypothesis \n",
    "#is rejected. So, the new method has a significant effect on the grades of students as the avergae grade is greater than 75."
   ]
  }
 ],
 "metadata": {
  "kernelspec": {
   "display_name": "Python 3 (ipykernel)",
   "language": "python",
   "name": "python3"
  },
  "language_info": {
   "codemirror_mode": {
    "name": "ipython",
    "version": 3
   },
   "file_extension": ".py",
   "mimetype": "text/x-python",
   "name": "python",
   "nbconvert_exporter": "python",
   "pygments_lexer": "ipython3",
   "version": "3.12.8"
  }
 },
 "nbformat": 4,
 "nbformat_minor": 5
}
