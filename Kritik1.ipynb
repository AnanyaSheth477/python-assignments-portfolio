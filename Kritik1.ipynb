{
 "cells": [
  {
   "metadata": {
    "ExecuteTime": {
     "end_time": "2024-09-29T16:02:19.191831Z",
     "start_time": "2024-09-29T16:02:19.164200Z"
    }
   },
   "cell_type": "code",
   "source": [
    "def arctan(x):\n",
    "    a = 0\n",
    "    n = 0\n",
    "    error_bound = x**(2*n +1) / (2*n+1)\n",
    "    \n",
    "    while error_bound > 0.0001:\n",
    "        a += (-1)**n * x**(2*n + 1) / (2*n + 1)\n",
    "        n += 1\n",
    "        error_bound = x**(2*n + 1) / (2*n + 1)\n",
    "    return (a, n, error_bound)\n",
    "\n",
    "inputs = [-1, 0, 0.25, 0.5, 0.75, 1]\n",
    "\n",
    "for x in inputs:\n",
    "    if x < 0 or x > 1:\n",
    "        print(\"Error!\")\n",
    "    else:\n",
    "        result = arctan(x)\n",
    "        print(f\"For x = {x}: {result}\")"
   ],
   "id": "cf550b2ca8f88d85",
   "outputs": [
    {
     "name": "stdout",
     "output_type": "stream",
     "text": [
      "Error!\n",
      "For x = 0: (0, 0, 0.0)\n",
      "For x = 0.25: (0.24498697916666665, 3, 8.719308035714285e-06)\n",
      "For x = 0.5: (0.46368427579365074, 5, 4.438920454545455e-05)\n",
      "For x = 0.75: (0.6435394700943785, 11, 5.816761029294689e-05)\n",
      "For x = 1: (0.7853481633979478, 5000, 9.999000099990002e-05)\n"
     ]
    }
   ],
   "execution_count": 7
  }
 ],
 "metadata": {
  "kernelspec": {
   "display_name": "Python 3",
   "language": "python",
   "name": "python3"
  },
  "language_info": {
   "codemirror_mode": {
    "name": "ipython",
    "version": 2
   },
   "file_extension": ".py",
   "mimetype": "text/x-python",
   "name": "python",
   "nbconvert_exporter": "python",
   "pygments_lexer": "ipython2",
   "version": "2.7.6"
  }
 },
 "nbformat": 4,
 "nbformat_minor": 5
}
