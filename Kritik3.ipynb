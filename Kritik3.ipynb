{
 "cells": [
  {
   "cell_type": "code",
   "execution_count": 15,
   "id": "1a7a54fc-7bef-43a9-a508-234ac66d28fe",
   "metadata": {},
   "outputs": [
    {
     "name": "stdout",
     "output_type": "stream",
     "text": [
      "Test result for f(x) = x^2, c = 1, E = 0.1: (0.99, 1.01)\n",
      "Test result for g(x) = x^2, c = 1, E = 0.1: (0.7753981633974483, 0.7953981633974483)\n",
      "Test result for h(x) = x^2, c = 1, E = 0.1: (-0.01, 0.01)\n"
     ]
    }
   ],
   "source": [
    "import numpy as np\n",
    "\n",
    "def approximate_derivative(f, c, dx=1e-8):\n",
    "    return (f(c + dx) - f(c - dx)) / (2 * dx)\n",
    "def linear_approximation(f, c, x, derivative):\n",
    "    return f(c) + derivative * (x - c)\n",
    "def find_x_values(f, c, E, dx=1e-8, search_range=0.5, tolerance=1e-6):\n",
    "    derivative = approximate_derivative(f, c, dx) \n",
    "    def L(x):\n",
    "        return linear_approximation(f, c, x, derivative)\n",
    "    x1 = c - 0.01\n",
    "    x2 = c + 0.01\n",
    "    \n",
    "    found_x1 = False\n",
    "    while x1 > c - search_range:\n",
    "        if abs(f(x1) - L(x1)) - E < tolerance:\n",
    "            found_x1 = True\n",
    "            break\n",
    "        x1 -= 0.0001  \n",
    "    found_x2 = False\n",
    "    while x2 < c + search_range:\n",
    "        if abs(f(x2) - L(x2)) - E < tolerance:\n",
    "            found_x2 = True\n",
    "            break\n",
    "        x2 += 0.0001  \n",
    "    if found_x1 and found_x2:\n",
    "        return x1, x2\n",
    "    else:\n",
    "        return \"No values x1 and x2 found within the search range and tolerance.\"\n",
    "\n",
    "# Test case a\n",
    "def f(x):\n",
    "    return x**2\n",
    "def test_casea():\n",
    "    c = 1\n",
    "    E = 0.1\n",
    "    result = find_x_values(f, c, E)\n",
    "    print(f\"Test result for f(x) = x^2, c = 1, E = 0.1: {result}\")\n",
    "test_casea()\n",
    "\n",
    "# Test case b\n",
    "def g(x):\n",
    "    return np.sin(x)\n",
    "def test_caseb():\n",
    "    c = np.pi/4\n",
    "    E = 0.05\n",
    "    result = find_x_values(f, c, E)\n",
    "    print(f\"Test result for g(x) = x^2, c = 1, E = 0.1: {result}\")\n",
    "test_caseb()\n",
    "\n",
    "# Test case c\n",
    "def h(x):\n",
    "    return np.exp(x)\n",
    "def test_casec():\n",
    "    c = 0\n",
    "    E = 0.01\n",
    "    result = find_x_values(f, c, E)\n",
    "    print(f\"Test result for h(x) = x^2, c = 1, E = 0.1: {result}\")\n",
    "test_casec()"
   ]
  },
  {
   "cell_type": "code",
   "execution_count": null,
   "id": "55cea990-aa4c-4888-9b86-029efbd76417",
   "metadata": {},
   "outputs": [],
   "source": []
  }
 ],
 "metadata": {
  "kernelspec": {
   "display_name": "Python 3 (ipykernel)",
   "language": "python",
   "name": "python3"
  },
  "language_info": {
   "codemirror_mode": {
    "name": "ipython",
    "version": 3
   },
   "file_extension": ".py",
   "mimetype": "text/x-python",
   "name": "python",
   "nbconvert_exporter": "python",
   "pygments_lexer": "ipython3",
   "version": "3.11.9"
  }
 },
 "nbformat": 4,
 "nbformat_minor": 5
}
