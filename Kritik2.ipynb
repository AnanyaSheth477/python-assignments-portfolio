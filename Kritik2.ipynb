{
 "cells": [
  {
   "cell_type": "code",
   "execution_count": 9,
   "id": "70e852ce-cd89-4ae5-b3c7-3323eefc95d0",
   "metadata": {},
   "outputs": [
    {
     "name": "stdout",
     "output_type": "stream",
     "text": [
      "The root is 0.2698741375870304\n",
      "The root is 0.8336061943968522\n",
      "The root is 3.141592653701082\n",
      "The root: No root found\n"
     ]
    }
   ],
   "source": [
    "import numpy as np\n",
    "\n",
    "def roots(f, a, b, tol=1e-10, max_iter=1000):\n",
    "    if f(a) * f(b) > 0:\n",
    "        return \"No root found\"\n",
    "    \n",
    "    for _ in range(max_iter):\n",
    "        mid = (a + b) / 2\n",
    "        if abs(f(mid)) < tol or (b - a) / 2 < tol:\n",
    "            return mid\n",
    "        \n",
    "        # Narrow down the interval\n",
    "        if f(a) * f(mid) < 0:\n",
    "            b = mid\n",
    "        else:\n",
    "            a = mid\n",
    "    \n",
    "    return \"No root found within maximum iterations.\"\n",
    "\n",
    "def function1(x):\n",
    "    return np.exp(x) + np.log(x)\n",
    "result = roots(function1, 0.01, 1)  \n",
    "print(\"The root is\", result)\n",
    "\n",
    "def function2(x):\n",
    "    return np.arctan(x) - x**2\n",
    "result = roots(function2, 0.01, 2)  \n",
    "print(\"The root is\", result)\n",
    "\n",
    "def function3(x):\n",
    "    return np.sin(x)/np.log(x)\n",
    "result = roots(function3, 3,4)  \n",
    "print(\"The root is\", result)\n",
    "\n",
    "def function4(x):\n",
    "    return np.log(np.cos(x))\n",
    "result = roots(function4, 5,7)  \n",
    "print(\"The root:\", result)"
   ]
  },
  {
   "cell_type": "code",
   "execution_count": null,
   "id": "caf2e246-629a-4eff-a4a1-8508c48555d2",
   "metadata": {},
   "outputs": [],
   "source": []
  }
 ],
 "metadata": {
  "kernelspec": {
   "display_name": "Python 3 (ipykernel)",
   "language": "python",
   "name": "python3"
  },
  "language_info": {
   "codemirror_mode": {
    "name": "ipython",
    "version": 3
   },
   "file_extension": ".py",
   "mimetype": "text/x-python",
   "name": "python",
   "nbconvert_exporter": "python",
   "pygments_lexer": "ipython3",
   "version": "3.11.9"
  }
 },
 "nbformat": 4,
 "nbformat_minor": 5
}
